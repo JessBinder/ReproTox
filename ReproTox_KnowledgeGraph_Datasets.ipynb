{
 "cells": [
  {
   "cell_type": "markdown",
   "metadata": {},
   "source": [
    "# This notebook accomplishes the following:\n",
    "1. Computes consensus signatures for LINCS compounds associated with CNS,CV, and blood disease areas (based on efforts from Leadscope/IDG) and produces up/down gene sets for each compound.\n",
    "<br><br>\n",
    "2. Produces Knowledge Graph ready outputs for chemical-gene associations from LINCS, chemical-disease area associations from IDG/Leadscope, and Cardiovascular defect-gene associations from SPARC/KidsFirst."
   ]
  },
  {
   "cell_type": "markdown",
   "metadata": {},
   "source": [
    "## 1. Generating gene sets from LINCS chemical perturbagen signatures that are associated with Blood, CNS, and CV Disease Areas\n",
    "\n",
    "### Data sources:\n",
    "    \n",
    "Leadscope/IDG compounds mapped to LINCS compounds with associated disease area: https://docs.google.com/spreadsheets/d/1ZCPnn47B2QTfiSpzNCJh86m7SAh9GG2LFaAk1xdfSSg/edit\n",
    "\n",
    "Gene-Cardiovascular system defects associations: https://github.com/nih-cfde/ReproToxTables/blob/main/Great_Vessel_Associated_Diseases_v1.xlsx\n",
    "\n",
    "L1000FWD metadata: https://maayanlab.cloud/L1000FWD/download/Drugs_metadata.csv\n",
    "\n",
    "LINCS 2021 chemical perturbagen metadata: https://lincs-dcic.s3.amazonaws.com/LINCS-sigs-2021/gctx/metadata/cp_siginfo_abr.txt\n",
    "\n",
    "LINCS 2021 chemical metadata: https://s3.amazonaws.com/lincs-dcic/sigcom-lincs-metadata/LINCS_small_molecules.tsv\n",
    "\n",
    "LINCS 2021 chemical perturbagen gene expression matrix: https://lincs-dcic.s3.amazonaws.com/LINCS-sigs-2021/gctx/cd-coefficient/cp_coeff_mat.gctx"
   ]
  },
  {
   "cell_type": "code",
   "execution_count": null,
   "metadata": {},
   "outputs": [],
   "source": [
    "import os\n",
    "\n",
    "import pandas as pd\n",
    "import numpy as np\n",
    "import h5py as h5\n",
    "\n",
    "import requests\n",
    "from tqdm import tqdm\n",
    "import time\n",
    "import json\n",
    "\n",
    "from rdflib import Graph, RDF, Namespace"
   ]
  },
  {
   "cell_type": "code",
   "execution_count": null,
   "metadata": {},
   "outputs": [],
   "source": [
    "def matrix_slice(query_name):\n",
    "    '''\n",
    "    Get slice of complete signature matrix by drug name\n",
    "    'pert_names'(list), 'f'(h5 object),and 'genes'(list) variables are defined outside the scope of the function.\n",
    "    '''\n",
    "    col_idx = [i for i, x in enumerate(pert_names) if x == query_name]\n",
    "    values = f['0']['DATA']['0']['matrix'][col_idx,:]\n",
    "    return pd.DataFrame(values.T, columns=[query_name]*len(col_idx), index=genes, dtype=float)"
   ]
  },
  {
   "cell_type": "code",
   "execution_count": null,
   "metadata": {},
   "outputs": [],
   "source": [
    "# Leadscope compounds with annotated disease areas that overlap with LINCS chemical library\n",
    "reprotox_drugs = pd.read_excel('input/ReproTox_export.xlsx',\n",
    "                              names = ['Canonical_SMILES','LS_id','DiseaseArea','LSM_id'])\n",
    "\n",
    "# L1000FWD metadata for small molecules (which contains LSM IDs to map to Leadscope compounds)\n",
    "l1000fwd_meta = pd.read_csv('input/Drugs_metadata.csv')\n",
    "\n",
    "# LINCS 2021 chemical perturbagen signature metadata\n",
    "drug_meta = pd.read_table('https://lincs-dcic.s3.amazonaws.com/LINCS-sigs-2021/gctx/metadata/cp_siginfo_abr.txt')\n",
    "\n",
    "# Table of BRD-IDs mapped to aliases not included in the original LINCS 2021 metadata\n",
    "drug_alias_table = pd.read_csv('https://s3.amazonaws.com/lincs-dcic/sigcom-lincs-metadata/LINCS_small_molecules.tsv',\n",
    "                              sep = '\\t',\n",
    "                              index_col=0)\n",
    "\n",
    "alias_lookup =  drug_alias_table[~(drug_alias_table['compound_aliases'] == '-')]\\\n",
    "                .to_dict()['compound_aliases']"
   ]
  },
  {
   "cell_type": "code",
   "execution_count": null,
   "metadata": {},
   "outputs": [],
   "source": [
    "f = h5.File('input/cp_coeff_mat.gctx', 'r')\n",
    "genes = [x.decode('UTF-8') for x in f['0']['META']['ROW']['id']]"
   ]
  },
  {
   "cell_type": "code",
   "execution_count": null,
   "metadata": {},
   "outputs": [],
   "source": [
    "# Map BRD-IDs without drug name to drug name (if applicable)\n",
    "# This is a list of all small molecule perturbagens in the LINCS gene expression matrix\n",
    "# These have to be in the order given by source metadata to match matrix indices when slicing\n",
    "pert_names = [alias_lookup.get(x,x) for x in drug_meta['pert_name'].tolist()]"
   ]
  },
  {
   "cell_type": "code",
   "execution_count": null,
   "metadata": {},
   "outputs": [],
   "source": [
    "# Merge L1000FWD metadata with Leadscope compound table on common LSM Ids\n",
    "merged_table = l1000fwd_meta.merge(reprotox_drugs, on = 'LSM_id')[['pert_id','LSM_id','pert_iname','DiseaseArea']]\n",
    "merged_table = merged_table[merged_table['pert_iname'].isin(set(pert_names))].drop_duplicates().reset_index(drop=True)\n",
    "merged_table.to_csv('ReproTox_Leadscope_IDG_LINCS_compound_table.csv', index = False)"
   ]
  },
  {
   "cell_type": "code",
   "execution_count": null,
   "metadata": {},
   "outputs": [],
   "source": [
    "merged_table.head()"
   ]
  },
  {
   "cell_type": "code",
   "execution_count": null,
   "metadata": {},
   "outputs": [],
   "source": [
    "# Set of compounds from Leadscope matched to LINCS small molecules by LSM ID\n",
    "drug_names = set(merged_table['pert_iname'].tolist())"
   ]
  },
  {
   "cell_type": "code",
   "execution_count": null,
   "metadata": {},
   "outputs": [],
   "source": [
    "# Iterate through all signatures for a particular chemical and determine 'consensus signature' based on\n",
    "# largest absolute Characteristic Direction coefficient mean value\n",
    "sigs = []\n",
    "correlation_data = []\n",
    "for drug in tqdm(drug_names):\n",
    "    drug_matrix = matrix_slice(drug)\n",
    "    if len(drug_matrix.columns) > 1:\n",
    "        correlation_score = 0.0\n",
    "        for i,x in enumerate(drug_matrix.columns):\n",
    "            current_signature = drug_matrix.iloc[:,i]\n",
    "            current_score = np.absolute(current_signature.values).mean()\n",
    "            if current_score > correlation_score:\n",
    "                correlation_score = current_score\n",
    "                consensus_signature = pd.DataFrame(current_signature)\n",
    "        sigs.append(consensus_signature)\n",
    "        correlation_data.append([drug,correlation_score,len(drug_matrix.columns)])\n",
    "        \n",
    "    else:\n",
    "        sigs.append(drug_matrix)"
   ]
  },
  {
   "cell_type": "code",
   "execution_count": null,
   "metadata": {},
   "outputs": [],
   "source": [
    "# Concatenate all consensus signatures into one dataframe\n",
    "consensus_mat = pd.concat(sigs,axis=1)\n",
    "\n",
    "# Drop NaN columns\n",
    "consensus_mat.dropna(axis = 1,inplace=True)"
   ]
  },
  {
   "cell_type": "code",
   "execution_count": null,
   "metadata": {},
   "outputs": [],
   "source": [
    "consensus_mat.head()"
   ]
  },
  {
   "cell_type": "code",
   "execution_count": null,
   "metadata": {},
   "outputs": [],
   "source": [
    "# Create up/down genesets from each consensus signature for each chemical\n",
    "up_genes = {}\n",
    "down_genes = {}\n",
    "for i,r in consensus_mat.T.iterrows():\n",
    "    up_genes[i] = r.sort_values().tail(50).index.tolist()\n",
    "    down_genes[i] = r.sort_values().head(50).index.tolist()\n",
    "    \n",
    "pd.DataFrame.from_dict(up_genes).to_csv('ReproTox_LINCS_compounds_UpGenes.csv', index = False)\n",
    "pd.DataFrame.from_dict(down_genes).to_csv('ReproTox_LINCS_compounds_DownGenes.csv', index = False)"
   ]
  },
  {
   "cell_type": "markdown",
   "metadata": {},
   "source": [
    "## 2. Creating triples for Knowledge Graph ingestion"
   ]
  },
  {
   "cell_type": "markdown",
   "metadata": {},
   "source": [
    "### LINCS chemical-gene associations"
   ]
  },
  {
   "cell_type": "markdown",
   "metadata": {},
   "source": [
    "TSV format"
   ]
  },
  {
   "cell_type": "code",
   "execution_count": null,
   "metadata": {},
   "outputs": [],
   "source": [
    "# Create mapping between LINCS compound names and LSM IDs\n",
    "compound_mapping = dict(zip(merged_table['pert_iname'],merged_table['LSM_id']))"
   ]
  },
  {
   "cell_type": "code",
   "execution_count": null,
   "metadata": {},
   "outputs": [],
   "source": [
    "data = []\n",
    "for chemical,gene_list in up_genes.items():\n",
    "    chemical_URI = \"https://identifiers.org/lincs.smallmolecule:\"+compound_mapping[chemical]\n",
    "    relationship = \"upregulates\"\n",
    "    relationship_URI = np.nan\n",
    "    for gene in gene_list:\n",
    "        gene_URI = \"http://identifiers.org/hgnc.symbol/\"+gene\n",
    "        data.append((chemical,chemical_URI,relationship,relationship_URI,gene,gene_URI))\n",
    "    \n",
    "for chemical,gene_list in down_genes.items():\n",
    "    chemical_URI = \"https://identifiers.org/lincs.smallmolecule:\"+compound_mapping[chemical]\n",
    "    relationship = \"downregulates\"\n",
    "    relationship_URI = np.nan\n",
    "    for gene in gene_list:\n",
    "        gene_URI = \"http://identifiers.org/hgnc.symbol/\"+gene\n",
    "        data.append((chemical,chemical_URI,relationship,relationship_URI,gene,gene_URI))\n",
    "        \n",
    "pd.DataFrame(data,\n",
    "            columns=['Chemical','Chemical_URI','Relationship','Relationship_URI',\n",
    "                     'Gene','Gene_URI']).to_csv('LINCS_chemical_gene_associations.tsv',\n",
    "                                                               sep = '\\t',\n",
    "                                                               index = False)"
   ]
  },
  {
   "cell_type": "markdown",
   "metadata": {},
   "source": [
    "TTL format"
   ]
  },
  {
   "cell_type": "code",
   "execution_count": null,
   "metadata": {},
   "outputs": [],
   "source": [
    "# Note: because I could not find a URI that describes upregulation and downregulation of gene expression\n",
    "# all of the differentially expressed genes are simply associated with each respective compound\n",
    "g = Graph()\n",
    "\n",
    "gene_symbol = Namespace(\"http://identifiers.org/hgnc.symbol/\")\n",
    "compound = Namespace(\"https://identifiers.org/lincs.smallmolecule:\")\n",
    "relationship = Namespace(\"https://semanticscience.org/resource/\")\n",
    "compound_type = Namespace(\"http://purl.obolibrary.org/obo/\")\n",
    "\n",
    "g.bind('gene',gene_symbol)\n",
    "g.bind('compound',compound)\n",
    "g.bind('relationship',relationship)\n",
    "g.bind('type',compound_type)\n",
    "\n",
    "for drug,gene_list in up_genes.items():\n",
    "    for gene in gene_list:\n",
    "        lsm_id = compound_mapping[drug]\n",
    "        g.add((compound[lsm_id],RDF.type,compound_type['OBI_0000040']))\n",
    "        g.add((compound[lsm_id],relationship['SIO_001257'],gene_symbol[gene]))\n",
    "        \n",
    "for drug,gene_list in down_genes.items():\n",
    "    for gene in gene_list:\n",
    "        lsm_id = compound_mapping[drug]\n",
    "        g.add((compound[lsm_id],RDF.type,compound_type['OBI_0000040']))\n",
    "        g.add((compound[lsm_id],relationship['SIO_001257'],gene_symbol[gene]))"
   ]
  },
  {
   "cell_type": "code",
   "execution_count": null,
   "metadata": {},
   "outputs": [],
   "source": [
    "g.serialize(format=\"turtle\",destination='LINCS_chemical_gene_associations.ttl')"
   ]
  },
  {
   "cell_type": "markdown",
   "metadata": {},
   "source": [
    "### Chemical-disease area from https://docs.google.com/spreadsheets/d/1ZCPnn47B2QTfiSpzNCJh86m7SAh9GG2LFaAk1xdfSSg/edit"
   ]
  },
  {
   "cell_type": "markdown",
   "metadata": {},
   "source": [
    "TSV format"
   ]
  },
  {
   "cell_type": "code",
   "execution_count": null,
   "metadata": {},
   "outputs": [],
   "source": [
    "# Mappings between each disease area and DOID\n",
    "disease_area = {\n",
    "    \"CNS\": \"DOID_863\",\n",
    "    \"CV\": \"DOID_1287\",\n",
    "    \"Blood\": \"DOID_74\"\n",
    "}"
   ]
  },
  {
   "cell_type": "code",
   "execution_count": null,
   "metadata": {},
   "outputs": [],
   "source": [
    "data = []\n",
    "for i in range(len(merged_table)):\n",
    "    row = merged_table.loc[i]\n",
    "    chemical = row.pert_iname\n",
    "    chemical_URI = \"https://identifiers.org/lincs.smallmolecule:\"+row.LSM_id\n",
    "    relationship = 'chemical-disease association'\n",
    "    relationship_URI = \"https://semanticscience.org/resource/SIO_001257\"\n",
    "    disease = row.DiseaseArea\n",
    "    disease_URI = \"http://purl.obolibrary.org/obo/\"+disease_area[disease]\n",
    "    data.append((chemical,chemical_URI,relationship,relationship_URI,disease,disease_URI))\n",
    "    \n",
    "pd.DataFrame(data,\n",
    "            columns=['Chemical','Chemical_URI','Relationship','Relationship_URI',\n",
    "                     'Disease_Area','Disease_Area_URI']).to_csv('LINCS_Leadscope_IDG_compound_disease_area_associations.tsv',\n",
    "                                                               sep = '\\t',\n",
    "                                                               index = False)"
   ]
  },
  {
   "cell_type": "markdown",
   "metadata": {},
   "source": [
    "TTL format"
   ]
  },
  {
   "cell_type": "code",
   "execution_count": null,
   "metadata": {},
   "outputs": [],
   "source": [
    "g = Graph()\n",
    "\n",
    "compound = Namespace(\"https://identifiers.org/lincs.smallmolecule:\")\n",
    "obo = Namespace(\"http://purl.obolibrary.org/obo/\")\n",
    "relationship = Namespace(\"https://semanticscience.org/resource/\")\n",
    "\n",
    "g.bind('compound',compound)\n",
    "g.bind('relationship',relationship)\n",
    "g.bind('obo',obo)\n",
    "\n",
    "for i in range(len(merged_table)):\n",
    "    row = merged_table.loc[i]\n",
    "    lsm_id = row.LSM_id\n",
    "    disease = disease_area[row.DiseaseArea]\n",
    "    g.add((compound[lsm_id],RDF.type,obo['OBI_0000040']))\n",
    "    g.add((compound[lsm_id],relationship['SIO_000993'],obo[disease]))"
   ]
  },
  {
   "cell_type": "code",
   "execution_count": null,
   "metadata": {},
   "outputs": [],
   "source": [
    "g.serialize(format=\"turtle\",destination='LINCS_Leadscope_IDG_compound_diseaseArea_associations.ttl')"
   ]
  },
  {
   "cell_type": "markdown",
   "metadata": {},
   "source": [
    "### Disease-gene from https://github.com/nih-cfde/ReproToxTables/blob/main/Great_Vessel_Associated_Diseases_v1.xlsx"
   ]
  },
  {
   "cell_type": "markdown",
   "metadata": {},
   "source": [
    "TSV format"
   ]
  },
  {
   "cell_type": "code",
   "execution_count": null,
   "metadata": {},
   "outputs": [],
   "source": [
    "disease_genes_table = pd.read_excel('input/Great_Vessel_Associated_Diseases_v1.xlsx',\n",
    "                             index_col=0,\n",
    "                             header=[1,2]).reset_index(drop=True)"
   ]
  },
  {
   "cell_type": "code",
   "execution_count": null,
   "metadata": {},
   "outputs": [],
   "source": [
    "data = []\n",
    "for col in disease_genes_table.columns:\n",
    "    disease = col[0]\n",
    "    hp_URI = \"http://purl.obolibrary.org/obo/\"+ col[1].replace(\":\",\"_\")\n",
    "    relationship = 'gene-disease association'\n",
    "    relationship_URI = \"https://semanticscience.org/resource/SIO_000983\"\n",
    "    for gene in disease_genes_table[col].dropna().tolist():\n",
    "        gene_URI = \"http://identifiers.org/hgnc.symbol/\" + gene\n",
    "        data.append((disease,hp_URI,relationship,relationship_URI,gene,gene_URI))\n",
    "        \n",
    "pd.DataFrame(data,\n",
    "            columns=['Disease','Disease_URI','Relationship','Relationship_URI',\n",
    "                     'Gene','Gene_URI']).to_csv('KidsFirst_GreatVesselDisease_gene_associations.tsv',\n",
    "                                                               sep = '\\t',\n",
    "                                                               index = False)"
   ]
  },
  {
   "cell_type": "markdown",
   "metadata": {},
   "source": [
    "TTL format"
   ]
  },
  {
   "cell_type": "code",
   "execution_count": null,
   "metadata": {},
   "outputs": [],
   "source": [
    "disease_genes_table = pd.read_excel('input/Great_Vessel_Associated_Diseases_v1.xlsx',\n",
    "                             skiprows=2,\n",
    "                             index_col=0).reset_index(drop=True)"
   ]
  },
  {
   "cell_type": "code",
   "execution_count": null,
   "metadata": {},
   "outputs": [],
   "source": [
    "disease_genes = {}\n",
    "for disease in disease_genes_table.columns:\n",
    "    disease_genes[disease.replace(\":\",\"_\")] = disease_genes_table[disease].dropna().tolist()"
   ]
  },
  {
   "cell_type": "code",
   "execution_count": null,
   "metadata": {},
   "outputs": [],
   "source": [
    "g = Graph()\n",
    "\n",
    "obo = Namespace(\"http://purl.obolibrary.org/obo/\")\n",
    "predicate = Namespace(\"https://semanticscience.org/resource/\")\n",
    "gene_symbol = Namespace(\"http://identifiers.org/hgnc.symbol/\")\n",
    "\n",
    "g.bind('gene',gene_symbol)\n",
    "g.bind('relationship',predicate)\n",
    "g.bind('obo',obo)\n",
    "\n",
    "for disease,gene_list in disease_genes.items():\n",
    "    for gene in gene_list:\n",
    "        g.add((obo[disease],RDF.type,obo['DOID_4']))\n",
    "        g.add((obo[disease],predicate['SIO_000983'],gene_symbol[gene]))"
   ]
  },
  {
   "cell_type": "code",
   "execution_count": null,
   "metadata": {},
   "outputs": [],
   "source": [
    "g.serialize(format=\"turtle\",destination='KidsFirst_GreatVesselDisease_gene_associations.ttl')"
   ]
  }
 ],
 "metadata": {
  "kernelspec": {
   "display_name": "reprotox",
   "language": "python",
   "name": "reprotox"
  },
  "language_info": {
   "codemirror_mode": {
    "name": "ipython",
    "version": 3
   },
   "file_extension": ".py",
   "mimetype": "text/x-python",
   "name": "python",
   "nbconvert_exporter": "python",
   "pygments_lexer": "ipython3",
   "version": "3.8.3"
  }
 },
 "nbformat": 4,
 "nbformat_minor": 4
}
