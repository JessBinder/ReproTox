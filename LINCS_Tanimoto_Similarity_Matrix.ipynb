{
 "cells": [
  {
   "cell_type": "markdown",
   "metadata": {},
   "source": [
    "### ECFP4 and ECFP6 Tanimoto Similarity Matrices for LINCS compounds\n",
    "#### Drug metadata (includes SMILES) : https://s3.amazonaws.com/lincs-dcic/sigcom-lincs-metadata/LINCS_small_molecules.tsv"
   ]
  },
  {
   "cell_type": "code",
   "execution_count": null,
   "metadata": {},
   "outputs": [],
   "source": [
    "import pandas as pd\n",
    "import h5py as h5\n",
    "import numpy as np\n",
    "\n",
    "from rdkit import Chem\n",
    "from rdkit.Chem import AllChem\n",
    "from rdkit import DataStructs"
   ]
  },
  {
   "cell_type": "code",
   "execution_count": null,
   "metadata": {},
   "outputs": [],
   "source": [
    "sigcom_lincs = pd.read_csv('https://s3.amazonaws.com/lincs-dcic/sigcom-lincs-metadata/LINCS_small_molecules.tsv',\n",
    "                          sep = '\\t',\n",
    "                          index_col=0)\n",
    "\n",
    "alias_lookup =  sigcom_lincs[~(sigcom_lincs['compound_aliases'] == '-')]\\\n",
    "                .to_dict()['compound_aliases']"
   ]
  },
  {
   "cell_type": "code",
   "execution_count": null,
   "metadata": {},
   "outputs": [],
   "source": [
    "sigcom_lincs['pert_name'] = sigcom_lincs['pert_name'].apply(lambda x: alias_lookup.get(x,x))\n",
    "sigcom_lincs.drop_duplicates(subset=['pert_name'],inplace=True)"
   ]
  },
  {
   "cell_type": "code",
   "execution_count": null,
   "metadata": {
    "scrolled": true
   },
   "outputs": [],
   "source": [
    "molecules = [Chem.MolFromSmiles(x) for x in sigcom_lincs['canonical_smiles']]\n",
    "sigcom_lincs['molecule'] = molecules\n",
    "sigcom_lincs.dropna(subset=['molecule'], inplace = True)"
   ]
  },
  {
   "cell_type": "code",
   "execution_count": null,
   "metadata": {},
   "outputs": [],
   "source": [
    "len(sigcom_lincs)"
   ]
  },
  {
   "cell_type": "code",
   "execution_count": null,
   "metadata": {},
   "outputs": [],
   "source": [
    "def ECFP(radius=4):\n",
    "    index = sigcom_lincs['pert_name'].tolist()\n",
    "    morgan = [AllChem.GetMorganFingerprintAsBitVect(mol, radius, 4096) for mol in sigcom_lincs['molecule'].tolist()]\n",
    "    mat = []\n",
    "    for fp in morgan:\n",
    "        arr = DataStructs.BulkTanimotoSimilarity(fp,morgan)\n",
    "        mat.append(arr)\n",
    "        \n",
    "    array = np.asarray(mat)\n",
    "    np.fill_diagonal(array,np.nan)\n",
    "        \n",
    "    # h5 file\n",
    "    f = h5.File(f'LINCS_chemicals_ECFP{radius}_similarity_matrix.h5', 'w')\n",
    "    dset = f.create_dataset(\"data/matrix\", data=array, dtype=np.float32)\n",
    "    f.close()\n",
    "\n",
    "    string_dt = h5.special_dtype(vlen=str)\n",
    "    colids = np.array(index, dtype=object)\n",
    "\n",
    "    f = h5.File(f'LINCS_chemicals_ECFP{radius}_similarity_matrix.h5', 'a')\n",
    "    f.create_dataset(\"meta/colid\", data=colids, dtype=string_dt)\n",
    "    f.close()"
   ]
  },
  {
   "cell_type": "markdown",
   "metadata": {},
   "source": [
    "### ECFP4"
   ]
  },
  {
   "cell_type": "code",
   "execution_count": null,
   "metadata": {},
   "outputs": [],
   "source": [
    "ECFP()"
   ]
  },
  {
   "cell_type": "markdown",
   "metadata": {},
   "source": [
    "### ECFP6"
   ]
  },
  {
   "cell_type": "code",
   "execution_count": null,
   "metadata": {},
   "outputs": [],
   "source": [
    "ECFP(radius=6)"
   ]
  }
 ],
 "metadata": {
  "kernelspec": {
   "display_name": "reprotox",
   "language": "python",
   "name": "reprotox"
  },
  "language_info": {
   "codemirror_mode": {
    "name": "ipython",
    "version": 3
   },
   "file_extension": ".py",
   "mimetype": "text/x-python",
   "name": "python",
   "nbconvert_exporter": "python",
   "pygments_lexer": "ipython3",
   "version": "3.8.3"
  }
 },
 "nbformat": 4,
 "nbformat_minor": 4
}
