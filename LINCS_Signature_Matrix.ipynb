{
 "cells": [
  {
   "cell_type": "markdown",
   "metadata": {},
   "source": [
    "### Signature Similarity (L1000 Signatures 2021)\n",
    "#### Matrix download link (35.57GB): https://lincs-dcic.s3.amazonaws.com/LINCS-sigs-2021/gctx/cd-coefficient/cp_coeff_mat.gctx\n",
    "#### Drug metadata download link: https://lincs-dcic.s3.amazonaws.com/LINCS-sigs-2021/gctx/metadata/cp_siginfo_abr.txt\n",
    "#### Drug aliases : https://s3.amazonaws.com/lincs-dcic/sigcom-lincs-metadata/LINCS_small_molecules.tsv"
   ]
  },
  {
   "cell_type": "code",
   "execution_count": null,
   "metadata": {},
   "outputs": [],
   "source": [
    "import os\n",
    "\n",
    "import pandas as pd\n",
    "import numpy as np\n",
    "import h5py as h5\n",
    "import scipy.spatial.distance as dist\n",
    "\n",
    "import requests\n",
    "from tqdm import tqdm\n",
    "import time\n",
    "import json"
   ]
  },
  {
   "cell_type": "code",
   "execution_count": null,
   "metadata": {},
   "outputs": [],
   "source": [
    "def matrix_slice(query_name):\n",
    "    '''\n",
    "    Get slice of complete signature matrix by drug name\n",
    "    '''\n",
    "    col_idx = [i for i, x in enumerate(pert_names) if x == query_name]\n",
    "    values = f['0']['DATA']['0']['matrix'][col_idx,:]\n",
    "    return pd.DataFrame(values.T, columns=[query_name]*len(col_idx), index=genes, dtype=float)\n",
    "\n",
    "def similarity_matrix(df, metric, dtype=None, sparse=False):\n",
    "    '''\n",
    "    Creates a similarity matrix between the rows of the df based on\n",
    "    the metric specified. The resulting matrix has both rows and columns labeled\n",
    "    by the index of df.\n",
    "    '''\n",
    "    mat = dist.pdist(df.to_numpy(dtype=dtype), metric)\n",
    "    mat = dist.squareform(mat)\n",
    "    mat = 1 - mat\n",
    "\n",
    "    similarity_df = pd.DataFrame(\n",
    "        data=mat, index=df.index, columns=df.index)\n",
    "    \n",
    "    # Set diagonols to NaN\n",
    "    np.fill_diagonal(similarity_df.values, np.nan)\n",
    "    \n",
    "    similarity_df.index.name = None\n",
    "    similarity_df.columns.name = None\n",
    "    return similarity_df"
   ]
  },
  {
   "cell_type": "code",
   "execution_count": null,
   "metadata": {},
   "outputs": [],
   "source": [
    "f = h5.File('input/cp_coeff_mat.gctx', 'r')\n",
    "genes = [x.decode('UTF-8') for x in f['0']['META']['ROW']['id']]\n",
    "\n",
    "drug_meta = pd.read_table('https://lincs-dcic.s3.amazonaws.com/LINCS-sigs-2021/gctx/metadata/cp_siginfo_abr.txt')"
   ]
  },
  {
   "cell_type": "code",
   "execution_count": null,
   "metadata": {},
   "outputs": [],
   "source": [
    "# Table of BRD-IDs mapped to aliases not included in the original metadata\n",
    "drug_alias_table = pd.read_csv('https://s3.amazonaws.com/lincs-dcic/sigcom-lincs-metadata/LINCS_small_molecules.tsv',\n",
    "                              sep = '\\t',\n",
    "                              index_col=0)\n",
    "\n",
    "alias_lookup =  drug_alias_table[~(drug_alias_table['compound_aliases'] == '-')]\\\n",
    "                .to_dict()['compound_aliases']"
   ]
  },
  {
   "cell_type": "code",
   "execution_count": null,
   "metadata": {},
   "outputs": [],
   "source": [
    "# Map BRD-IDs without drug name to drug name (if applicable)\n",
    "# These have to be in the order given by source metadata to match matrix indices when slicing\n",
    "pert_names = [alias_lookup.get(x,x) for x in drug_meta['pert_name'].tolist()]"
   ]
  },
  {
   "cell_type": "markdown",
   "metadata": {},
   "source": [
    "### Choosing consensus based on Characteristic Direction absolute correlation value"
   ]
  },
  {
   "cell_type": "code",
   "execution_count": null,
   "metadata": {},
   "outputs": [],
   "source": [
    "unique_drugs = list(set(pert_names))"
   ]
  },
  {
   "cell_type": "code",
   "execution_count": null,
   "metadata": {},
   "outputs": [],
   "source": [
    "sigs = []\n",
    "correlation_data = []\n",
    "for drug in tqdm(unique_drugs):\n",
    "    drug_matrix = matrix_slice(drug)\n",
    "    if len(drug_matrix.columns) > 1:\n",
    "        correlation_score = 0.0\n",
    "        for i,x in enumerate(drug_matrix.columns):\n",
    "            current_signature = drug_matrix.iloc[:,i]\n",
    "            current_score = np.absolute(current_signature.values).mean()\n",
    "            if current_score > correlation_score:\n",
    "                correlation_score = current_score\n",
    "                consensus_signature = pd.DataFrame(current_signature)\n",
    "        sigs.append(consensus_signature)\n",
    "        correlation_data.append([drug,correlation_score,len(drug_matrix.columns)])\n",
    "        \n",
    "    else:\n",
    "        sigs.append(drug_matrix)  "
   ]
  },
  {
   "cell_type": "code",
   "execution_count": null,
   "metadata": {},
   "outputs": [],
   "source": [
    "# Concatenate all consensus signature into one dataframe\n",
    "consensus_mat = pd.concat(sigs,axis=1)\n",
    "\n",
    "# Drop NaN columns\n",
    "consensus_mat.dropna(axis = 1,inplace=True)"
   ]
  },
  {
   "cell_type": "code",
   "execution_count": null,
   "metadata": {},
   "outputs": [],
   "source": [
    "consensus_mat.head()"
   ]
  },
  {
   "cell_type": "code",
   "execution_count": null,
   "metadata": {},
   "outputs": [],
   "source": [
    "# Table of drugs and their average correlation across cell lines\n",
    "correlation_table = pd.DataFrame(correlation_data,\n",
    "            columns = ['pert_name','cd_correlation','num_sigs'])\n",
    "\n",
    "correlation_table.sort_values(by=['cd_correlation'], ascending=False, inplace = True)"
   ]
  },
  {
   "cell_type": "code",
   "execution_count": null,
   "metadata": {},
   "outputs": [],
   "source": [
    "correlation_table.head()"
   ]
  },
  {
   "cell_type": "code",
   "execution_count": null,
   "metadata": {},
   "outputs": [],
   "source": [
    "correlation_table.to_csv('CD_correlation_table.tsv', sep = '\\t', index = False)"
   ]
  },
  {
   "cell_type": "markdown",
   "metadata": {},
   "source": [
    "Create and save drug-drug correlation matrix"
   ]
  },
  {
   "cell_type": "code",
   "execution_count": null,
   "metadata": {},
   "outputs": [],
   "source": [
    "sim_mat = similarity_matrix(consensus_mat.T, metric='cosine')"
   ]
  },
  {
   "cell_type": "code",
   "execution_count": null,
   "metadata": {},
   "outputs": [],
   "source": [
    "sim_mat.shape"
   ]
  },
  {
   "cell_type": "code",
   "execution_count": null,
   "metadata": {},
   "outputs": [],
   "source": [
    "# h5 file\n",
    "f = h5.File('L1000_signature_similarity.h5', 'w')\n",
    "dset = f.create_dataset(\"data/matrix\", data=sim_mat, dtype=np.float32)\n",
    "f.close()\n",
    "\n",
    "string_dt = h5.special_dtype(vlen=str)\n",
    "colids = np.array(sim_mat.columns, dtype=object)\n",
    "\n",
    "f = h5.File('L1000_signature_similarity.h5', 'a')\n",
    "f.create_dataset(\"meta/colid\", data=colids, dtype=string_dt)\n",
    "f.close()"
   ]
  }
 ],
 "metadata": {
  "kernelspec": {
   "display_name": "reprotox",
   "language": "python",
   "name": "reprotox"
  },
  "language_info": {
   "codemirror_mode": {
    "name": "ipython",
    "version": 3
   },
   "file_extension": ".py",
   "mimetype": "text/x-python",
   "name": "python",
   "nbconvert_exporter": "python",
   "pygments_lexer": "ipython3",
   "version": "3.8.3"
  }
 },
 "nbformat": 4,
 "nbformat_minor": 4
}
